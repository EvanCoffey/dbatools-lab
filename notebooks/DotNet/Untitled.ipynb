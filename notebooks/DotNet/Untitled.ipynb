{
  "cells": [
    {
      "cell_type": "code",
      "execution_count": 48,
      "metadata": {},
      "outputs": [],
      "source": [
        "$Stopwatch = [diagnostics.stopwatch]::StartNew()"
      ]
    },
    {
      "cell_type": "code",
      "execution_count": 49,
      "metadata": {},
      "outputs": [
        {
          "name": "stdout",
          "output_type": "stream",
          "text": [
            "Number of Files : 10001\n",
            "\n"
          ]
        }
      ],
      "source": [
        "#!csharp\n",
        "using System.IO; \n",
        "using System;\n",
        "int fileCount = Directory.GetFiles(@\"C:\\Users\\mrrob\\AppData\\Local\\Temp\\pwshplaydir\", \"*\", SearchOption.TopDirectoryOnly).Length;\n",
        "Console.WriteLine($\"Number of Files : {fileCount}\\n\");"
      ]
    },
    {
      "cell_type": "code",
      "execution_count": 50,
      "metadata": {},
      "outputs": [
        {
          "name": "stdout",
          "output_type": "stream",
          "text": [
            "141\n"
          ]
        }
      ],
      "source": [
        "$Stopwatch.Stop()\n",
        "$Stopwatch.Elapsed.Milliseconds"
      ]
    },
    {
      "cell_type": "code",
      "execution_count": 51,
      "metadata": {},
      "outputs": [],
      "source": [
        "$Stopwatch = [diagnostics.stopwatch]::StartNew()"
      ]
    },
    {
      "cell_type": "code",
      "execution_count": 52,
      "metadata": {},
      "outputs": [
        {
          "name": "stdout",
          "output_type": "stream",
          "text": [
            "The File Count is 10001\n"
          ]
        }
      ],
      "source": [
        "$FileCount = (Get-Childitem C:\\Users\\mrrob\\AppData\\Local\\Temp\\pwshplaydir).Count\n",
        "Write-Output \"The File Count is $FileCount\""
      ]
    },
    {
      "cell_type": "code",
      "execution_count": 53,
      "metadata": {},
      "outputs": [
        {
          "name": "stdout",
          "output_type": "stream",
          "text": [
            "76\n"
          ]
        }
      ],
      "source": [
        "$Stopwatch.Stop()\n",
        "$Stopwatch.Elapsed.Milliseconds"
      ]
    },
    {
      "cell_type": "code",
      "execution_count": 54,
      "metadata": {},
      "outputs": [
        {
          "name": "stdout",
          "output_type": "stream",
          "text": [
            "Number of Files : 10001\n",
            "\n",
            "Number of Files :10001\n",
            "\n",
            "Number of Files :10001\n",
            "\n"
          ]
        }
      ],
      "source": [
        "#!csharp\n",
        "using System.IO; \n",
        "using System;\n",
        "string value;\n",
        "string File_Countfromenv;\n",
        "int fileCount = Directory.GetFiles(@\"C:\\Users\\mrrob\\AppData\\Local\\Temp\\pwshplaydir\", \"*\", SearchOption.TopDirectoryOnly).Length;\n",
        "Console.WriteLine($\"Number of Files : {fileCount}\\n\");\n",
        "value = Convert.ToString(fileCount);\n",
        "Console.WriteLine($\"Number of Files :{value}\\n\");\n",
        "Environment.SetEnvironmentVariable(\"File_Count\", value);\n",
        "File_Countfromenv = Environment.GetEnvironmentVariable(\"File_Count\");\n",
        "Console.WriteLine($\"Number of Files :{File_Countfromenv}\\n\");"
      ]
    },
    {
      "cell_type": "code",
      "execution_count": 55,
      "metadata": {},
      "outputs": [
        {
          "name": "stdout",
          "output_type": "stream",
          "text": [
            "The File Count is 10001\n"
          ]
        }
      ],
      "source": [
        "Write-Output \"The File Count is $Env:File_Count\""
      ]
    }
  ],
  "metadata": {
    "kernelspec": {
      "display_name": ".NET (PowerShell)",
      "language": "PowerShell",
      "name": ".net-powershell"
    },
    "language_info": {
      "file_extension": ".ps1",
      "mimetype": "text/x-powershell",
      "name": "PowerShell",
      "version": "7.0",
      "pygments_lexer": "powershell"
    }
  },
  "nbformat": 4,
  "nbformat_minor": 4
}
